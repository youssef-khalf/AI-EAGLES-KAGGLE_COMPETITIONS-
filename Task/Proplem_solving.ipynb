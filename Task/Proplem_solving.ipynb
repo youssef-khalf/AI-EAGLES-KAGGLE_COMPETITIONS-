{
 "cells": [
  {
   "cell_type": "markdown",
   "id": "f72849ea-11ec-4699-a183-1a85e0997f75",
   "metadata": {},
   "source": [
    "<a id=\"1\"></a>\n",
    "# <div style=\"text-align:center; border-radius:30px 30px; padding:7px; color:white; margin:0; font-size:150%; font-family:Pacifico; background-color:#98ff98; overflow:hidden\"><b> Problem one 231A </b></div>\n"
   ]
  },
  {
   "cell_type": "code",
   "execution_count": null,
   "id": "a07a9964-7c7a-4afd-9553-17134b907caa",
   "metadata": {},
   "outputs": [],
   "source": [
    "n=int(input())\n",
    "count=0\n",
    "for i in range(0,n):\n",
    "    x=input()\n",
    "    if x.count('1')>=2:\n",
    "        count=count+1\n",
    "print(count)"
   ]
  },
  {
   "cell_type": "markdown",
   "id": "802cac5d-f97c-4219-9af4-3ff75415b443",
   "metadata": {},
   "source": [
    "<a id=\"1\"></a>\n",
    "# <div style=\"text-align:center; border-radius:30px 30px; padding:7px; color:white; margin:0; font-size:150%; font-family:Pacifico; background-color:#98ff98; overflow:hidden\"><b> problem two 265A </b></div>\n"
   ]
  },
  {
   "cell_type": "code",
   "execution_count": null,
   "id": "668d7ce7-b8cc-47a8-a7be-0701cc28941c",
   "metadata": {},
   "outputs": [],
   "source": [
    "C=input()\n",
    "T=input()\n",
    "position= 0\n",
    "for i in range( len(T) ):\n",
    "    if T[i]==C[position]:\n",
    "        position +=1\n",
    "print(position +1 )\n"
   ]
  },
  {
   "cell_type": "markdown",
   "id": "bda0fded-3c4c-4aa0-ade9-83b35f618a7d",
   "metadata": {},
   "source": [
    "<a id=\"1\"></a>\n",
    "# <div style=\"text-align:center; border-radius:30px 30px; padding:7px; color:white; margin:0; font-size:150%; font-family:Pacifico; background-color:#98ff98; overflow:hidden\"><b> problem three 160A </b></div>\n"
   ]
  },
  {
   "cell_type": "code",
   "execution_count": null,
   "id": "aef51438-1678-48bd-a798-9c3a3b834806",
   "metadata": {},
   "outputs": [],
   "source": [
    "NO_Coins=int(input())\n",
    "values=list(map(int,input().split()))\n",
    "half=sum(values)/2\n",
    "coins=0\n",
    "Qnt=0\n",
    "for i,v in enumerate(reversed(sorted(values))):\n",
    "        Qnt+=v\n",
    "        coins+=1\n",
    "        if Qnt>half:\n",
    "                break\n",
    "print(coins)\n"
   ]
  },
  {
   "cell_type": "markdown",
   "id": "efb26356-8d01-4b9d-8fcd-ac2390c92dad",
   "metadata": {},
   "source": [
    "<a id=\"1\"></a>\n",
    "# <div style=\"text-align:center; border-radius:30px 30px; padding:7px; color:white; margin:0; font-size:150%; font-family:Pacifico; background-color:#98ff98; overflow:hidden\"><b> # problem fou102B </b></div>\n"
   ]
  },
  {
   "cell_type": "code",
   "execution_count": null,
   "id": "14dbee65-1c54-48df-be30-bd0566425e0c",
   "metadata": {},
   "outputs": [],
   "source": [
    "n=list(map(int,input().split()))\n",
    "m= 0\n",
    "for i in range(0, len(n) ):\n",
    "    if n[i] > 0:\n",
    "        m +=1\n",
    "print(m)"
   ]
  }
 ],
 "metadata": {
  "kernelspec": {
   "display_name": "Python 3 (ipykernel)",
   "language": "python",
   "name": "python3"
  },
  "language_info": {
   "codemirror_mode": {
    "name": "ipython",
    "version": 3
   },
   "file_extension": ".py",
   "mimetype": "text/x-python",
   "name": "python",
   "nbconvert_exporter": "python",
   "pygments_lexer": "ipython3",
   "version": "3.12.4"
  }
 },
 "nbformat": 4,
 "nbformat_minor": 5
}
