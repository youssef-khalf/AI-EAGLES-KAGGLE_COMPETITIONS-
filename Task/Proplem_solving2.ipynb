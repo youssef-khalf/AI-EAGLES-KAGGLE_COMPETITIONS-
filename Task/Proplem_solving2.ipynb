{
 "cells": [
  {
   "cell_type": "markdown",
   "id": "f72849ea-11ec-4699-a183-1a85e0997f75",
   "metadata": {},
   "source": [
    "<a id=\"1\"></a>\n",
    "# <div style=\"text-align:center; border-radius:30px 30px; padding:7px; color:white; margin:0; font-size:150%; font-family:Pacifico; background-color:#98ff98; overflow:hidden\"><b> 1237B - Balanced Tunnel</b></div>\n"
   ]
  },
  {
   "cell_type": "code",
   "execution_count": null,
   "id": "a07a9964-7c7a-4afd-9553-17134b907caa",
   "metadata": {},
   "outputs": [],
   "source": [
    "def count_fined_cars(n, entrance, exit):\n",
    "    exit_position = {car: pos for pos, car in enumerate(exit)}\n",
    " \n",
    "    max_exit_pos = -1\n",
    "    fined_count = 0\n",
    " \n",
    "    for car in entrance:\n",
    "        current_exit_pos = exit_position[car]\n",
    "        \n",
    "        if current_exit_pos < max_exit_pos:\n",
    "            fined_count += 1\n",
    "        else:\n",
    "            max_exit_pos = current_exit_pos\n",
    " \n",
    "    return fined_count\n",
    " \n",
    "n = int(input())\n",
    "entrance = list(map(int, input().split()))\n",
    "exit = list(map(int, input().split()))\n",
    " \n",
    "print(count_fined_cars(n, entrance, exit))"
   ]
  },
  {
   "cell_type": "markdown",
   "id": "802cac5d-f97c-4219-9af4-3ff75415b443",
   "metadata": {},
   "source": [
    "<a id=\"1\"></a>\n",
    "# <div style=\"text-align:center; border-radius:30px 30px; padding:7px; color:white; margin:0; font-size:150%; font-family:Pacifico; background-color:#98ff98; overflow:hidden\"><b> 740C - Alyona and mex </b></div>\n"
   ]
  },
  {
   "cell_type": "code",
   "execution_count": null,
   "id": "668d7ce7-b8cc-47a8-a7be-0701cc28941c",
   "metadata": {},
   "outputs": [],
   "source": [
    "import sys\n",
    "\n",
    "input = sys.stdin.read\n",
    "data = input().split()\n",
    "\n",
    "n = int(data[0])\n",
    "m = int(data[1])\n",
    "\n",
    "min_range = float('inf')\n",
    "index = 2\n",
    "\n",
    "for _ in range(m):\n",
    "    s = int(data[index])\n",
    "    e = int(data[index + 1])\n",
    "    min_range = min(min_range, e - s + 1)\n",
    "    index += 2\n",
    "\n",
    "print(min_range)\n",
    "\n",
    "result = []\n",
    "for i in range(n):\n",
    "    result.append(str(i % min_range))\n",
    "\n",
    "print(\" \".join(result))"
   ]
  },
  {
   "cell_type": "markdown",
   "id": "173f488e",
   "metadata": {},
   "source": [
    "<a id=\"1\"></a>\n",
    "# <div style=\"text-align:center; border-radius:30px 30px; padding:7px; color:white; margin:0; font-size:150%; font-family:Pacifico; background-color:#98ff98; overflow:hidden\"><b> B. President's Office\n",
    " </b></div>\n"
   ]
  },
  {
   "cell_type": "code",
   "execution_count": null,
   "id": "06675b22",
   "metadata": {},
   "outputs": [],
   "source": [
    "def count(n, m, c, office):\n",
    "    dirx = [-1, 1, 0, 0]\n",
    "    diry = [0, 0, -1, 1]\n",
    "    \n",
    "    def valid(x, y):\n",
    "        return 0 <= x < n and 0 <= y < m\n",
    "    \n",
    "    U = set()\n",
    "    \n",
    "    for i in range(n):\n",
    "        for j in range(m):\n",
    "            if office[i][j] == c:\n",
    "                for k in range(4):\n",
    "                    tox = i + dirx[k]\n",
    "                    toy = j + diry[k]\n",
    "                    if valid(tox, toy) and office[tox][toy] != c and office[tox][toy] != '.':\n",
    "                        U.add(office[tox][toy])\n",
    "    \n",
    "    return len(U)\n",
    "\n",
    "n, m, c = input().split()\n",
    "n, m = int(n), int(m)\n",
    "office = [input().strip() for _ in range(n)]\n",
    "\n",
    "result = count(n, m, c, office)\n",
    "print(result)\n"
   ]
  }
 ],
 "metadata": {
  "kernelspec": {
   "display_name": "Python 3 (ipykernel)",
   "language": "python",
   "name": "python3"
  },
  "language_info": {
   "codemirror_mode": {
    "name": "ipython",
    "version": 3
   },
   "file_extension": ".py",
   "mimetype": "text/x-python",
   "name": "python",
   "nbconvert_exporter": "python",
   "pygments_lexer": "ipython3",
   "version": "3.12.4"
  }
 },
 "nbformat": 4,
 "nbformat_minor": 5
}
